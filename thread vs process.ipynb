{
 "cells": [
  {
   "cell_type": "code",
   "execution_count": null,
   "metadata": {},
   "outputs": [],
   "source": [
    "# Thread vs Process\n",
    "\n",
    "# Threads \n",
    "# share data by default running under one process;\n",
    "# GIL is necessary because Python interpreter is not thread safe.\n",
    "# Threads sometimes called light-weight processes and they do not require \n",
    "# much memory overhead;  they are cheaper than processes.\n",
    "\n",
    "# Processes \n",
    "# do not share data. they have their own memories. \n",
    "# So sending data between processes generally requires pickling(unpickling)\n",
    "\n",
    "# CPU-Bound programs spend most of their time doing computations. \n",
    "# - Multiprocessing allows parts of the computation to be split up and run on different CPUs. \n",
    "# - The other forms of Python concurrency all run on a single CPU.\n"
   ]
  },
  {
   "cell_type": "code",
   "execution_count": 1,
   "metadata": {
    "scrolled": true
   },
   "outputs": [
    {
     "name": "stdout",
     "output_type": "stream",
     "text": [
      "Starting Thread-1\n",
      "\n",
      "Starting Thread-2\n",
      "Exiting Main Thread\n",
      "\n",
      "Thread-1: Sat Jul 27 18:57:35 2019 \n",
      "\n",
      "Thread-1: Sat Jul 27 18:57:36 2019 \n",
      "\n",
      "Thread-2: Sat Jul 27 18:57:36 2019 \n",
      "\n",
      "Thread-1: Sat Jul 27 18:57:37 2019 \n",
      "\n",
      "Thread-1: Sat Jul 27 18:57:38 2019 \n",
      "\n",
      "Thread-2: Sat Jul 27 18:57:38 2019 \n",
      "\n",
      "Thread-1: Sat Jul 27 18:57:39 2019 \n",
      "\n",
      "Exiting Thread-1\n",
      "\n",
      "Thread-2: Sat Jul 27 18:57:40 2019 \n",
      "\n",
      "Thread-2: Sat Jul 27 18:57:42 2019 \n",
      "\n",
      "Thread-2: Sat Jul 27 18:57:44 2019 \n",
      "\n",
      "Exiting Thread-2\n",
      "\n"
     ]
    }
   ],
   "source": [
    "# Thread vs Threading\n",
    "# The module \"thread\" treats a thread as a function, while the module \"threading\" is \n",
    "# implemented in an object oriented way,  i.e.  every thread corresponds to an object.\n",
    "\n",
    "# So,in Python 3 the module \"thread\" is not available anymore. But that's not really true: \n",
    "# It has been renamed to \"_thread\" for backwards incompatibilities in Python3. \n",
    "\n",
    "# The .join() method allows one thread to wait for a second thread to complete. \n",
    "# It is done automatically for you when you use a ThreadPoolExecutor as a context manager \n",
    "# (a with statement).\n",
    "\n",
    "#!/usr/bin/python\n",
    "\n",
    "import threading\n",
    "import time\n",
    "\n",
    "exitFlag = 0\n",
    "\n",
    "class myThread (threading.Thread):\n",
    "   def __init__(self, threadID, name, counter):\n",
    "      threading.Thread.__init__(self)\n",
    "      self.threadID = threadID\n",
    "      self.name = name\n",
    "      self.counter = counter\n",
    "   def run(self):\n",
    "      print (\"Starting \" + self.name + '\\n')\n",
    "      print_time(self.name, 5, self.counter)\n",
    "      print (\"Exiting \" + self.name + '\\n')\n",
    "\n",
    "def print_time(threadName, counter, delay):\n",
    "   while counter:\n",
    "      if exitFlag:\n",
    "         threadName.exit()\n",
    "      time.sleep(delay)\n",
    "      print (\"%s: %s \\n\" % (threadName, time.ctime(time.time())))\n",
    "      counter -= 1\n",
    "\n",
    "# Create new threads\n",
    "thread1 = myThread(1, \"Thread-1\", 1)\n",
    "thread2 = myThread(2, \"Thread-2\", 2)\n",
    "\n",
    "# Start new Threads\n",
    "thread1.start()\n",
    "thread2.start()\n",
    "\n",
    "print (\"Exiting Main Thread\")"
   ]
  },
  {
   "cell_type": "code",
   "execution_count": 3,
   "metadata": {},
   "outputs": [
    {
     "ename": "IndentationError",
     "evalue": "expected an indented block (<ipython-input-3-0a5a200062e4>, line 16)",
     "output_type": "error",
     "traceback": [
      "\u001b[1;36m  File \u001b[1;32m\"<ipython-input-3-0a5a200062e4>\"\u001b[1;36m, line \u001b[1;32m16\u001b[0m\n\u001b[1;33m    size = 10000000   # Number of random numbers to add\u001b[0m\n\u001b[1;37m       ^\u001b[0m\n\u001b[1;31mIndentationError\u001b[0m\u001b[1;31m:\u001b[0m expected an indented block\n"
     ]
    }
   ],
   "source": [
    "# threading_test.py\n",
    "\n",
    "import random\n",
    "import threading\n",
    "\n",
    "def list_append(count, id, out_list):\n",
    "# \"\"\"\n",
    "# Creates an empty list and then appends a\n",
    "# random number to the list 'count' number\n",
    "# of times. A CPU-heavy operation!\n",
    "# \"\"\"\n",
    "    for i in range(count):\n",
    "        out_list.append(random.random())\n",
    "\n",
    "if __name__ == \"__main__\":\n",
    "    size = 10000000   # Number of random numbers to add\n",
    "    threads = 2   # Number of threads to create\n",
    "\n",
    "# Create a list of jobs and then iterate through\n",
    "# the number of threads appending each thread to\n",
    "# the job list\n",
    "    jobs = []\n",
    "    for i in range(0, threads):\n",
    "        out_list = list()\n",
    "        thread = threading.Thread(target=list_append(size, i, out_list))\n",
    "        jobs.append(thread)\n",
    "\n",
    "    # Start the threads (i.e. calculate the random number lists)\n",
    "    for j in jobs:\n",
    "        j.start()\n",
    "\n",
    "    # Ensure all of the threads have finished\n",
    "    for j in jobs:\n",
    "        j.join()\n",
    "\n",
    "    print (\"List processing complete.\")"
   ]
  }
 ],
 "metadata": {
  "kernelspec": {
   "display_name": "Python 3",
   "language": "python",
   "name": "python3"
  },
  "language_info": {
   "codemirror_mode": {
    "name": "ipython",
    "version": 3
   },
   "file_extension": ".py",
   "mimetype": "text/x-python",
   "name": "python",
   "nbconvert_exporter": "python",
   "pygments_lexer": "ipython3",
   "version": "3.7.3"
  }
 },
 "nbformat": 4,
 "nbformat_minor": 2
}
