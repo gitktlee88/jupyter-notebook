{
 "cells": [
  {
   "cell_type": "raw",
   "metadata": {},
   "source": [
    "# zfill(width) returns a copy of the string with '0' filled to the left. \n",
    "# The length of the returned string depends on the width provided.\n",
    "# If a string starts with the sign prefix('+', '-'), the '0' digits are filled after the first sign prefix character.\n",
    "number = \"-290\"\n",
    "print(number.zfill(8))\n",
    "\n",
    "number = \"+290\"\n",
    "print(number.zfill(8))\n",
    "\n",
    "text = \"--random+text\"\n",
    "print(text.zfill(20))\n",
    "\n",
    "\n",
    "# strip(), default(white space),  stripps from the beginning and the end of the string.\n",
    "\n",
    "str = \"*****this is string *exa-mple....wow!!!---\"\n",
    "print (str.strip( '*|-' ))\n",
    "\n",
    "\n",
    "keys = ['a', 'b', 'c']\n",
    "values = [1, 2, 3]\n",
    "\n",
    "print(dict(zip(keys, values)))\n",
    "print(list(zip(keys, values)))"
   ]
  },
  {
   "cell_type": "code",
   "execution_count": 2,
   "metadata": {},
   "outputs": [
    {
     "name": "stdout",
     "output_type": "stream",
     "text": [
      "1234\n",
      "['111 \"http 404\" 200', '1234']\n",
      "['abcd', 'xyz', 'mneeepr'] ['abcd', 'xyz', 'mneeepr']\n"
     ]
    }
   ],
   "source": [
    "# rsplit() : str.rsplit([separator [, maxsplit]])\n",
    "# it splits string from the right at the specified separator and returns a list of strings.\n",
    "\n",
    "s = '111 \"http 404\" 200 1234'\n",
    "a = s.rsplit(None,1) [1]\n",
    "b = s.rsplit(None,1)\n",
    "print(a)\n",
    "print(b)\n",
    "\n",
    "# separate a string input_string on the first 2 occurences of the letter “e”?\n",
    "input_string ='abcdexyzemneeepr'\n",
    "x = input_string.split('e', maxsplit=2)\n",
    "y = input_string.split('e', 2)\n",
    "print(x, y)"
   ]
  },
  {
   "cell_type": "code",
   "execution_count": 1,
   "metadata": {
    "scrolled": true
   },
   "outputs": [
    {
     "name": "stdout",
     "output_type": "stream",
     "text": [
      "[]\n",
      "<zip object at 0x000001D44325BEC8>\n",
      "{(1, 'one'), (2, 'two'), (3, 'three')}\n",
      "[('x', 3), ('y', 4), ('z', 5)]\n",
      "<class 'tuple'> c = ('x', 'y', 'z')\n",
      "<class 'tuple'> v = (3, 4, 5)\n"
     ]
    }
   ],
   "source": [
    "numberList = [1, 2, 3, 4]\n",
    "strList = ['one', 'two', 'three']\n",
    "\n",
    "# No iterables are passed, zip() returns an empty iterator\n",
    "result = zip()\n",
    "# print(result)\n",
    "\n",
    "# Converting itertor to list\n",
    "resultList = list(result)\n",
    "print(resultList)\n",
    "\n",
    "# Two iterables are passed\n",
    "result = zip(numberList, strList)\n",
    "print(result)\n",
    "\n",
    "# Converting itertor to set\n",
    "resultSet = set(result)\n",
    "print(resultSet)\n",
    "\n",
    "coordinate = ['x', 'y', 'z']\n",
    "value = [3, 4, 5, 0, 9]\n",
    "\n",
    "result = zip(coordinate, value)\n",
    "resultList = list(result)\n",
    "print(resultList)\n",
    "\n",
    "# Unzipping the Value Using zip():\n",
    "# The * operator can be used in conjuncton with zip() to unzip the list.\n",
    "c, v =  zip(*resultList)\n",
    "print(type(c),'c =', c)\n",
    "print(type(v),'v =', v)"
   ]
  },
  {
   "cell_type": "code",
   "execution_count": 6,
   "metadata": {
    "scrolled": true
   },
   "outputs": [
    {
     "name": "stdout",
     "output_type": "stream",
     "text": [
      "['u', 'o', 'i', 'e', 'a']\n",
      "['a', 'e', 'i', 'o', 'u']\n",
      "['u', 'o', 'i', 'e', 'a']\n",
      "Sorted list: [(4, 1), (2, 2), (1, 3), (3, 4)]\n"
     ]
    }
   ],
   "source": [
    "# sorted(iterable[, key][, reverse])\n",
    "\n",
    "# set\n",
    "pySet = {'e', 'a', 'u', 'o', 'i'}\n",
    "print(sorted(pySet, reverse=True))\n",
    "\n",
    "# dictionary\n",
    "pyDict = {'e': 1, 'a': 2, 'u': 3, 'o': 4, 'i': 5}\n",
    "print(sorted(pyDict, reverse=False))\n",
    "\n",
    "# frozen set\n",
    "pyFSet = frozenset(('e', 'a', 'u', 'o', 'i'))\n",
    "print(sorted(pyFSet, reverse=True))\n",
    "\n",
    "\n",
    "# sorted() returns a list of sorted elements and if we want to sort in a particular way \n",
    "# or if we want to sort a complex list of elements (e.g. nested lists or a list of tuples) \n",
    "# we can invoke the key argument.\n",
    "\n",
    "# take second element for sort\n",
    "def takeSecond(elem):\n",
    "    return elem[1]\n",
    "\n",
    "# random list\n",
    "random = [(2, 2), (3, 4), (4, 1), (1, 3)]\n",
    "\n",
    "# sort list with key\n",
    "sortedList = sorted(random, key=takeSecond)\n",
    "\n",
    "# print list\n",
    "print('Sorted list:', sortedList)\n"
   ]
  },
  {
   "cell_type": "code",
   "execution_count": 5,
   "metadata": {},
   "outputs": [
    {
     "name": "stdout",
     "output_type": "stream",
     "text": [
      "['38', '0C', '5A', '1e', 'a9', 'DD']\n"
     ]
    },
    {
     "data": {
      "text/plain": [
       "'38:C&5A:1E:A9:DD'"
      ]
     },
     "execution_count": 5,
     "metadata": {},
     "output_type": "execute_result"
    }
   ],
   "source": [
    "import re\n",
    "\n",
    "MAC = \"38:C&5A-1e:a9:DD\"\n",
    "print([c.zfill(2) for c in re.split(\":|-|&\", MAC)])\n",
    "\n",
    "# MAC = \":\".join(MAC.split(\"-\"))\n",
    "# MAC = ':'.join([i.zfill(2) for i in MAC.split(':')]).upper()\n",
    "\n",
    "# Split string with multiple delimiters in Python [duplicate]\n",
    "MAC = \":\".join([c.zfill(2) for c in re.split(\":|-\", MAC)]).upper()\n",
    "MAC\n",
    "\n"
   ]
  }
 ],
 "metadata": {
  "kernelspec": {
   "display_name": "Python 3",
   "language": "python",
   "name": "python3"
  },
  "language_info": {
   "codemirror_mode": {
    "name": "ipython",
    "version": 3
   },
   "file_extension": ".py",
   "mimetype": "text/x-python",
   "name": "python",
   "nbconvert_exporter": "python",
   "pygments_lexer": "ipython3",
   "version": "3.7.3"
  }
 },
 "nbformat": 4,
 "nbformat_minor": 2
}
