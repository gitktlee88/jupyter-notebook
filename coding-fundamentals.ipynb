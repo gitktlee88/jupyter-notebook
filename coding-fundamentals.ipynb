{
 "cells": [
  {
   "cell_type": "code",
   "execution_count": null,
   "metadata": {},
   "outputs": [],
   "source": [
    "@ Before you start developing small or big software, you should have answer for the \n",
    "     following questions:\n",
    "    \n",
    "-Where is the Requirements Specification?\n",
    "-Where is the Impact Analysis Document?\n",
    "-Where is the Design Document?\n",
    "-Have you documented all the assumptions, limitations properly?\n",
    "-Have you done review of all the documents?\n",
    "-Did you get sign off on all the documents from all the stakeholders?\n",
    "-Once you have positive answers for all the above questions, you are safe \n",
    "  and ready to proceed for the coding.\n",
    "\n",
    "@ What you learn today, prepares you for tomorrow!\n",
    "\n",
    "So, again it is one of the best practices to have documentation as much as possible. \n",
    "Few important documents, which will prepare you for future are:\n",
    "-Design Approaches\n",
    "-Tips and Tricks\n",
    "-Special functions, commands and instructions\n",
    "-Lessons learnt\n",
    "-Peculiar situations\n",
    "-Debugging methods\n",
    "-Best Practices\n",
    "-Anything which can help you in future\n",
    "\n",
    "Keeping documents electronically does not cost you.\n",
    "\n",
    "@ Code should be written to be reviewed\n",
    "\n",
    "While writing your software code, keep in mind that someone is going to review your code \n",
    "and you will have to face criticism about one or more of the following points \n",
    "but not limited to:\n",
    "-Bad coding\n",
    "-Not following standard\n",
    "-Not keeping performance in mind\n",
    "-History, Indentation, Comments are not appropriate.\n",
    "-Readability is poor\n",
    "-Open files are not closed\n",
    "-Allocated memory has not been released\n",
    "-Too many global variables.\n",
    "-Too much hard coding.\n",
    "-Poor error handling.\n",
    "-No modularity.\n",
    "-Repeated code.\n",
    "\n",
    "\n",
    "@ Software Design Principles\n",
    "\n",
    "Software design, the more time you spend designing a resilient and flexible architecture, \n",
    "the more time will save in the future when changes arise.\n",
    "Requirements always change — software will become legacy if no features are added \n",
    "or maintained on regular basis — and the cost of these changes are determined based on \n",
    "the structure and architecture of the system.  In this article, \n",
    "we'll discuss the key design principles that help in creating easily maintainable \n",
    "and extendable software.\n"
   ]
  },
  {
   "cell_type": "code",
   "execution_count": null,
   "metadata": {},
   "outputs": [],
   "source": []
  }
 ],
 "metadata": {
  "kernelspec": {
   "display_name": "Python 3",
   "language": "python",
   "name": "python3"
  },
  "language_info": {
   "codemirror_mode": {
    "name": "ipython",
    "version": 3
   },
   "file_extension": ".py",
   "mimetype": "text/x-python",
   "name": "python",
   "nbconvert_exporter": "python",
   "pygments_lexer": "ipython3",
   "version": "3.7.3"
  }
 },
 "nbformat": 4,
 "nbformat_minor": 2
}
