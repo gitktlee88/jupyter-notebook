{
 "cells": [
  {
   "cell_type": "code",
   "execution_count": 5,
   "metadata": {
    "scrolled": true
   },
   "outputs": [
    {
     "name": "stdout",
     "output_type": "stream",
     "text": [
      "Read String is :  Python is \n",
      "Current file position :  10\n",
      "Again read String is :  Python is \n"
     ]
    }
   ],
   "source": [
    "#!/usr/bin/python\n",
    "import os\n",
    "\n",
    "# get location of the current directory\n",
    "os.getcwd()\n",
    "\n",
    "# Rename a file from test1.txt to test2.txt\n",
    "#os.rename( \"test1.txt\", \"test2.txt\" )\n",
    "\n",
    "# Delete file test2.txt\n",
    "#os.remove(\"text2.txt\")\n",
    "\n",
    "# Create a directory \"test\"\n",
    "os.mkdir(\"test\")\n",
    "# Remove \"test\"  directory.\n",
    "os.rmdir( \"test\"  )\n",
    "\n",
    "# Changing a directory to \"/home/newdir\"\n",
    "#os.chdir(\"/home/newdir\")\n",
    "\n",
    "# Open a file\n",
    "fo = open(\"foo.txt\", \"r+\")\n",
    "str = fo.read(10)\n",
    "print (\"Read String is : \", str)\n",
    "\n",
    "# Check current position\n",
    "position = fo.tell()\n",
    "print (\"Current file position : \",  position)\n",
    "\n",
    "# Reposition pointer at the beginning once again\n",
    "position = fo.seek(0, 0);\n",
    "str = fo.read(10)\n",
    "print (\"Again read String is : \", str)\n",
    "\n",
    "# Close opend file\n",
    "fo.close()\n"
   ]
  },
  {
   "cell_type": "code",
   "execution_count": 3,
   "metadata": {},
   "outputs": [
    {
     "name": "stdout",
     "output_type": "stream",
     "text": [
      "[['Age', 'All_Devs', 'Python', 'JavaScript'], [], ['18', '17784', '20046', '16446'], [], ['19', '16500', '17100', '16791'], [], ['20', '18012', '20000', '18942'], [], ['21', '20628', '24744', '21780'], [], ['22', '25206', '30500', '25704'], [], ['23', '30252', '37732', '29000'], [], ['24', '34368', '41247', '34372'], [], ['25', '38496', '45372', '37810'], [], ['26', '42000', '48876', '43515'], [], ['27', '46752', '53850', '46823'], [], ['28', '49320', '57287', '49293'], [], ['29', '53200', '45000', '53437'], [], ['30', '56000', '50000', '56373'], [], ['31', '62316', '55000', '62375'], [], ['32', '64928', '70000', '66674'], [], ['33', '67317', '71496', '68745'], [], ['34', '68748', '75370', '68746'], [], ['35', '73752', '83640', '74583'], [], ['36', '77232', '84666', '79000'], [], ['37', '78000', '84392', '78508'], [], ['38', '78508', '78254', '79996'], [], ['39', '79536', '85000', '80403'], [], ['40', '82488', '87038', '83820'], [], ['41', '88935', '91991', '88833'], [], ['42', '90000', '100000', '91660'], [], ['43', '90056', '94796', '87892'], [], ['44', '95000', '97962', '96243'], [], ['45', '90000', '93302', '90000'], [], ['46', '91633', '99240', '99313'], [], ['47', '91660', '102736', '91660'], [], ['48', '98150', '112285', '102264'], [], ['49', '98964', '100771', '100000'], [], ['50', '100000', '104708', '100000'], [], ['51', '98988', '108423', '91660'], [], ['52', '100000', '101407', '99240'], [], ['53', '108923', '112542', '108000'], [], ['54', '105000', '122870', '105000'], [], ['55', '103117', '120000', '104000']]\n",
      "csv file created\n"
     ]
    }
   ],
   "source": [
    "# read and write csv file\n",
    "import csv\n",
    "\n",
    "with open('datax/data2.csv', 'r') as csv_file:\n",
    "    csv_reader = csv.reader(csv_file)\n",
    "    #csv_reader = csv.reader(csv_file, delimiter='\\t')    \n",
    "    #print(list(csv_reader))\n",
    "    with open('datax/ndata2.csv', 'w') as new_file:        \n",
    "        ### writing with writer\n",
    "        csv_writer = csv.writer(new_file, delimiter='\\t')\n",
    "        #csv_writer = csv.writer(new_file)\n",
    "        \n",
    "        for line in csv_reader:\n",
    "            csv_writer.writerow(line)\n",
    "            \n",
    "            \n",
    "print(\"csv file created\")"
   ]
  },
  {
   "cell_type": "code",
   "execution_count": 1,
   "metadata": {},
   "outputs": [
    {
     "name": "stdout",
     "output_type": "stream",
     "text": [
      "csv file created\n"
     ]
    }
   ],
   "source": [
    "# read and write csv file  with   Dictionary reader\n",
    "import csv\n",
    "\n",
    "with open('datax/data2.csv', 'r') as csv_file:\n",
    "    csv_reader = csv.DictReader(csv_file)\n",
    "    \n",
    "    with open('datax/ndata2dic.csv', 'w') as new_file:\n",
    "        ### writing with DictWriter\n",
    "        fieldnames = ['Age', \"All_Devs\", 'Python', 'JavaScript']\n",
    "        \n",
    "        csv_writer = csv.DictWriter(new_file, fieldnames=fieldnames, delimiter='\\t')\n",
    "        csv_writer.writeheader()\n",
    "        \n",
    "        for line in csv_reader:\n",
    "            #del line['Age']\n",
    "            csv_writer.writerow(line)\n",
    "            \n",
    "            \n",
    "print(\"csv file created\")"
   ]
  },
  {
   "cell_type": "code",
   "execution_count": 6,
   "metadata": {},
   "outputs": [
    {
     "name": "stdout",
     "output_type": "stream",
     "text": [
      "Overwriting us_cities.txt\n"
     ]
    }
   ],
   "source": [
    "%%file us_cities.txt\n",
    "new york: 8244910    \n",
    "los angeles: 3819702\n",
    "chicago: 2707120\n",
    "houston: 2145146\n",
    "philadelphia: 1536471\n",
    "phoenix: 1469471\n",
    "san antonio: 1359758\n",
    "san diego: 1326179\n",
    "dallas: 1223229\n",
    "\n",
    "\n",
    "with open('us_cities.txt', 'r') as data_file:\n",
    "    for line in data_file:\n",
    "        city, population = line.split(':')         # Tuple unpacking\n",
    "        city = city.title()                        # Capitalize city names\n",
    "        population = f'{int(population):,}'        # Add commas to numbers\n",
    "        print(city.ljust(15) + population)"
   ]
  }
 ],
 "metadata": {
  "kernelspec": {
   "display_name": "Python 3",
   "language": "python",
   "name": "python3"
  },
  "language_info": {
   "codemirror_mode": {
    "name": "ipython",
    "version": 3
   },
   "file_extension": ".py",
   "mimetype": "text/x-python",
   "name": "python",
   "nbconvert_exporter": "python",
   "pygments_lexer": "ipython3",
   "version": "3.7.3"
  }
 },
 "nbformat": 4,
 "nbformat_minor": 2
}
