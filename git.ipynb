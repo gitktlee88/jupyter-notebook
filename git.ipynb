{
 "cells": [
  {
   "cell_type": "code",
   "execution_count": null,
   "metadata": {},
   "outputs": [],
   "source": [
    "    https://git-scm.com/book/en/v2/Getting-Started-First-Time-Git-Setup\n",
    "        \n",
    "$ gitt --version\n",
    "$ git config --list --show-origin\n",
    "\n",
    "Bring a local folder to remote git repo:\n",
    "    \n",
    "1. Create a new repository on GitHub.\n",
    "2. Open Git Bash.\n",
    "3. Change the current working directory to your local project.\n",
    "4. Initialize the local directory as a Git repository.\n",
    "$ git init\n",
    "5. Add the files in your new local repository. This stages them for the first commit.\n",
    "$ git add .       \n",
    "       // Remove .pyc files using          git rm *.pyc\n",
    "       // Commit                                      git commit -a -m 'all pyc files removed'\n",
    "       // to unstage all the staged files.           git reset\n",
    "    \n",
    "6. Commit the files that you've staged in your local repository.\n",
    "$ git commit -m \"First commit\"\n",
    "7. At the top of your GitHub repository's Quick Setup page, \n",
    "    click to copy the remote repository URL.\n",
    "\n",
    "8. In the Command prompt, add the URL for the remote repository \n",
    "    where your local repository will be pushed.\n",
    "$ git remote add origin <remote repository URL>\n",
    "# Sets the new remote\n",
    "\n",
    "$ git remote -v\n",
    "# Verifies the new remote URL\n",
    "\n",
    "# To remove a remote repository you enter:\n",
    "$ git remote rm origin\n",
    "\n",
    "$ git config --get remote.origin.url\n",
    "# How can I find the URL that a local Git repository was originally cloned from?\n",
    "\n",
    "9. Push the changes in your local repository to GitHub.\n",
    "$ git push origin master    \n",
    "        // if you want to force the local to the remote.( dangerous )\n",
    "        // git push -f origin master\n",
    "\n"
   ]
  },
  {
   "cell_type": "code",
   "execution_count": null,
   "metadata": {},
   "outputs": [],
   "source": [
    "-- Issue pushing new code in Github --\n",
    "error: failed to push some refs to 'https://github.com/...\n",
    "\n",
    "This happens when you try to push initially.\n",
    "Because in your GitHub repo have readMe.md or \n",
    "any other new thing which is not in your local repo. \n",
    "First you have to merge unrelated history of your github repo.\n",
    "To do that\n",
    "\n",
    "$ git pull origin master --allow-unrelated-histories\n",
    "\n",
    "then you can get the other files from repo(readMe.md or any)using this\n",
    "\n",
    "$ git pull origin master\n",
    "\n",
    "After that\n",
    "\n",
    "$ git push -u origin master\n",
    "\n",
    "Now you successfully push your all the changes into Github repo."
   ]
  }
 ],
 "metadata": {
  "kernelspec": {
   "display_name": "Python 3",
   "language": "python",
   "name": "python3"
  },
  "language_info": {
   "codemirror_mode": {
    "name": "ipython",
    "version": 3
   },
   "file_extension": ".py",
   "mimetype": "text/x-python",
   "name": "python",
   "nbconvert_exporter": "python",
   "pygments_lexer": "ipython3",
   "version": "3.7.3"
  }
 },
 "nbformat": 4,
 "nbformat_minor": 2
}
