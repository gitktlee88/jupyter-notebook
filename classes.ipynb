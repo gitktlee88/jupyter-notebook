{
 "cells": [
  {
   "cell_type": "code",
   "execution_count": 10,
   "metadata": {},
   "outputs": [
    {
     "name": "stdout",
     "output_type": "stream",
     "text": [
      "3\n",
      "I am in class B\n"
     ]
    }
   ],
   "source": [
    "\n",
    "# Python Method Overloading is not supported\n",
    "def add(a,b):\n",
    "    return a+b\n",
    "\n",
    "def add(a,b,c):\n",
    "    return a+b+c \n",
    "\n",
    "# Python keeps only the LATEST Definition of a method you declare to it.\n",
    "# add(2,3) \n",
    "# TypeError: add() missing 1 required positional argument: 'c'\n",
    "\n",
    "\n",
    "# Python Override Method\n",
    "class A:\n",
    "    def sayhi(self):\n",
    "        print('I am in class A')\n",
    "        \n",
    "class B(A):\n",
    "    def sayhi(self):\n",
    "        print('I am in class B')\n",
    "\n",
    "# a subclass may change the functionality of a method in the superclass.\n",
    "# It does so by redefining it with the same name and parameters.\n",
    "        \n",
    "obj_b = B()\n",
    "obj_b.sayhi()\n"
   ]
  },
  {
   "cell_type": "code",
   "execution_count": null,
   "metadata": {},
   "outputs": [],
   "source": [
    "\"\"\" \n",
    "Classes  vs.  Functions\n",
    "\n",
    "It depends on the scenario. \n",
    "If you only want to compute the age of a person, then use a function \n",
    "since you want to implement a single specific behaviour.\n",
    "\n",
    "But if you want to create an object, that contains the date of birth of a person\n",
    "(and possibly other data), allows to modify it, then computing the age could be \n",
    "one of many operations related to the person \n",
    "and it would be sensible to use a class instead.\n",
    "\n",
    "Classes provide a way to merge together some data and related operations. \n",
    "If you have only one operation on the data then using a function \n",
    "and passing the data as argument you obtain an equivalent behaviour, with less complex code.\n",
    "\"\"\"\n",
    "\n",
    "class A(object):\n",
    "    def __init__(self, ...):\n",
    "        #initialize\n",
    "    def a_single_method(self, ...):\n",
    "        #do stuff\n",
    "        \n",
    "## It isn't really a class, it is only a (complicated)function. \n",
    "## A legitimate class should always have at least two methods(without counting __init__)."
   ]
  },
  {
   "cell_type": "code",
   "execution_count": 1,
   "metadata": {},
   "outputs": [
    {
     "data": {
      "text/plain": [
       "50"
      ]
     },
     "execution_count": 1,
     "metadata": {},
     "output_type": "execute_result"
    }
   ],
   "source": [
    "## There are not many issues while using immutable class variables. \n",
    "\n",
    "class Cal(object):\n",
    "    # pi is a Class variable, which is for data shared between different instances of a class\n",
    "    pi = 3.142\n",
    "\n",
    "    def __init__(self, radius):\n",
    "        # self.radius is an instance variable, which is unique to every object\n",
    "        self.radius = radius\n",
    "\n",
    "    def area(self):\n",
    "        return self.pi * (self.radius ** 2)\n",
    "\n",
    "a = Cal(32)\n",
    "a.area()\n",
    "# Output: 3217.408\n",
    "a.pi\n",
    "# Output: 3.142\n",
    "a.pi = 43\n",
    "a.pi\n",
    "# Output: 43\n",
    "\n",
    "b = Cal(44)\n",
    "b.area()\n",
    "# Output: 6082.912\n",
    "b.pi\n",
    "# Output: 3.142\n",
    "b.pi = 50\n",
    "b.pi\n",
    "# Output: 50\n"
   ]
  },
  {
   "cell_type": "code",
   "execution_count": null,
   "metadata": {},
   "outputs": [],
   "source": [
    "## the wrong usage of mutable class variables.\n",
    "\n",
    "class SuperClass(object):\n",
    "    # list is mutable class variable\n",
    "    superpowers = []\n",
    "\n",
    "    def __init__(self, name):\n",
    "        self.name = name\n",
    "\n",
    "    def add_superpower(self, power):\n",
    "        self.superpowers.append(power)\n",
    "\n",
    "foo = SuperClass('foo')\n",
    "bar = SuperClass('bar')\n",
    "foo.name\n",
    "# Output: 'foo'\n",
    "\n",
    "bar.name\n",
    "# Output: 'bar'\n",
    "\n",
    "foo.add_superpower('fly')\n",
    "\n",
    "bar.superpowers\n",
    "# Output: ['fly']\n",
    "foo.superpowers\n",
    "# Output: ['fly']\n"
   ]
  },
  {
   "cell_type": "code",
   "execution_count": null,
   "metadata": {},
   "outputs": [],
   "source": [
    "## Implementing getitem in a class allows its instances to use the [] (indexer) operator.\n",
    "\n",
    "class GetTest(object):\n",
    "    def __init__(self):\n",
    "        self.info = {\n",
    "            'name':'Yasoob',\n",
    "            'country':'Pakistan',\n",
    "            'number':12345812\n",
    "        }\n",
    "\n",
    "    def __getitem__(self,i):\n",
    "        return self.info[i]\n",
    "\n",
    "foo = GetTest()\n",
    "\n",
    "foo['name']\n",
    "# Output: 'Yasoob'\n",
    "\n",
    "foo['number']\n",
    "# Output: 12345812"
   ]
  },
  {
   "cell_type": "code",
   "execution_count": null,
   "metadata": {},
   "outputs": [],
   "source": [
    "## By default, Python uses a dict to store an object’s instance attributes. \n",
    "# This is really helpful as it allows setting arbitrary new attributes at runtime.\n",
    "# However, for small classes with known attributes it might be a waste of RAM.\n",
    "\n",
    "## the usage of __slots__ to tell Python not to use a dict, and only allocate space \n",
    "# for a fixed set of attributes.\n",
    "\n",
    "class MyClass(object):\n",
    "    __slots__ = ['name', 'identifier']\n",
    "    def __init__(self, name, identifier):\n",
    "        self.name = name\n",
    "        self.identifier = identifier\n",
    "        self.set_up()\n",
    "    # ..."
   ]
  },
  {
   "cell_type": "code",
   "execution_count": 1,
   "metadata": {},
   "outputs": [
    {
     "name": "stdout",
     "output_type": "stream",
     "text": [
      "40\n",
      "300\n",
      "0.3333333333333333\n"
     ]
    }
   ],
   "source": [
    "## multiple inheritance in Python is possible but not in Java.\n",
    "\n",
    "class Calculus:  \n",
    "    def Sum(self,a,b):  \n",
    "        return a+b;  \n",
    "    \n",
    "class Calculus1:  \n",
    "    def Mul(self,a,b):  \n",
    "        return a*b;  \n",
    "    \n",
    "class Derived(Calculus,Calculus1):  \n",
    "    def Div(self,a,b):  \n",
    "        return a/b;  \n",
    "    \n",
    "d = Derived()  \n",
    "print(d.Sum(10,30))  \n",
    "print(d.Mul(10,30))  \n",
    "print(d.Div(10,30))"
   ]
  },
  {
   "cell_type": "code",
   "execution_count": 7,
   "metadata": {},
   "outputs": [],
   "source": [
    "There is no such thing as ‘call by value’ in Python. \n",
    "\n",
    "All arguments in Python are passed by ‘Call by Assignment’, or ‘Call by Object Reference’; \n",
    "what is passed around is an object reference.\n",
    "\n",
    "When you pass an immutable object as an argument - for instance a number, a string, a tuple; \n",
    "it appears to be similar to ‘Call by value’ - in that the function can change the parameter name \n",
    "that was passed, but the actual value wont change in the function caller.; \n",
    "but it doesn’t change because it is immutable, and any attempt to change the object will actually \n",
    "create a new object with the new value.\n",
    "\n",
    "There is no way for instance to pass a list, dictionary, set or other mutable object in a way \n",
    "that appears to be ‘Call by value’ - you simply need to ensure that your function doesn’t change \n",
    "any value that it isn’t expected to change.\n",
    "\n"
   ]
  },
  {
   "cell_type": "code",
   "execution_count": 1,
   "metadata": {},
   "outputs": [
    {
     "name": "stdout",
     "output_type": "stream",
     "text": [
      "Outside func - before call 0x7ff80f7d93c0\n",
      "5\n",
      "Inside func - start 0x7ff80f7d93c0\n",
      "Inside func - end 0x7ff80f7d9460\n",
      "Outside func - after call 0x7ff80f7d93c0\n",
      "5\n",
      "\n",
      "Outside func2 - before call 0x2c1d45ddc88\n",
      "[1, 2, 3]\n",
      "Inside func2 - start 0x2c1d45ddc88\n",
      "Inside func2 - end 0x2c1d45ddc88\n",
      "Outside func2 - after call 0x2c1d45ddc88\n",
      "[1, 2, 3, 5]\n"
     ]
    }
   ],
   "source": [
    "###### if 'param' refers to an immutable object, the most that 'func' can do is \n",
    "#              create a name 'param' in its local namespace and bind it to some other object.\n",
    "\n",
    "def func(param):\n",
    "    print('Inside func - start', hex(id(param)))\n",
    "    param = param * 2\n",
    "    print('Inside func - end', hex(id(param)))\n",
    " \n",
    "arg = 5     # immutable: a number, a string, a tuple\n",
    "\n",
    "print('Outside func - before call', hex(id(arg)))\n",
    "print(arg)\n",
    "\n",
    "func(arg)\n",
    "\n",
    "print('Outside func - after call', hex(id(arg)))\n",
    "print(arg)\n",
    "\n",
    "\n",
    "###### If 'param' refers to a mutable object and 'func2' changes its value, \n",
    "#              then these changes will be visible outside of the scope of the function.\n",
    "\n",
    "def func2(param):\n",
    "    print('Inside func2 - start', hex(id(param)))\n",
    "    param.append(5)\n",
    "    print('Inside func2 - end', hex(id(param)))\n",
    "\n",
    "lst = [1,2,3]     # mutable:  list, dictionary, set or other mutable object\n",
    "\n",
    "print('\\nOutside func2 - before call', hex(id(lst)))\n",
    "print(lst)\n",
    "\n",
    "func2(lst)\n",
    "\n",
    "print('Outside func2 - after call', hex(id(lst)))\n",
    "print(lst)\n"
   ]
  }
 ],
 "metadata": {
  "kernelspec": {
   "display_name": "Python 3",
   "language": "python",
   "name": "python3"
  },
  "language_info": {
   "codemirror_mode": {
    "name": "ipython",
    "version": 3
   },
   "file_extension": ".py",
   "mimetype": "text/x-python",
   "name": "python",
   "nbconvert_exporter": "python",
   "pygments_lexer": "ipython3",
   "version": "3.7.3"
  }
 },
 "nbformat": 4,
 "nbformat_minor": 2
}
