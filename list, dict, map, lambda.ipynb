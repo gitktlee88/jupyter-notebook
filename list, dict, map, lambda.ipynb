{
 "cells": [
  {
   "cell_type": "code",
   "execution_count": 2,
   "metadata": {},
   "outputs": [
    {
     "name": "stdout",
     "output_type": "stream",
     "text": [
      "[('carrots', 1.1), ('eggs', 5.25), ('honey', 9.7), ('peaches', 2.45)]\n",
      "[('carrots', 1.1), ('peaches', 2.45), ('eggs', 5.25), ('honey', 9.7)]\n"
     ]
    }
   ],
   "source": [
    "# 'key' is a function that will be called to transform the collection's items \n",
    "# before they are compared. The parameter passed to key must be something that is callable.\n",
    "\n",
    "# The use of lambda creates an anonymous function (which is callable).\n",
    "\n",
    "list1 = [('eggs', 5.25), ('honey', 9.70), ('carrots', 1.10), ('peaches', 2.45)]\n",
    "\n",
    "# sorting a List of Tuples using Lambda\n",
    "list1.sort(key = lambda x: x[0])  #sort by key\n",
    "print(list1)\n",
    "list1.sort(key = lambda x: x[1])  #sort by key\n",
    "print(list1)\n",
    "\n"
   ]
  },
  {
   "cell_type": "code",
   "execution_count": 4,
   "metadata": {},
   "outputs": [
    {
     "name": "stdout",
     "output_type": "stream",
     "text": [
      "[(12, 0), (11, 0), (10, 0), (9, 0), (8, 0), (7, 0), (6, 0), (5, 0), (4, 0), (3, 0), (2, 0), (1, 0)]\n",
      "False\n",
      "line empty\n",
      "line empty\n",
      "{'a': [1, 33], 'b': [2], 'c': [3, 22], 'd': [4]}\n"
     ]
    }
   ],
   "source": [
    "# Dictionary\n",
    "# - List can not be a dictionary key because it's mutable so unhashable as a key.\n",
    "\n",
    "d = {'a': [1, 33], 'b': [2], 'c': [3, 22], 'd': [4]}\n",
    "\n",
    "d.clear()    # d = {}   # delete d['a'] \n",
    "d\n",
    "\n",
    "#initiallize dict with initial value\n",
    "d = dict.fromkeys(range(1,13), 0)\n",
    "\n",
    "# sort dict by key(values) in descending order\n",
    "list2 = sorted(d.items(), key=lambda x: x[0], reverse=True)   #  sort dict by key\n",
    "# list2 = sorted(d.items(), key=lambda x: x[1], reverse=False)  # sort dict by values\n",
    "print(list2)\n",
    "\n",
    "# Lambda Condition\n",
    "starts_with_J = lambda x: True if x.startswith('Jod') else False\n",
    "print(starts_with_J('Joey'))\n",
    "\n",
    "\n",
    "# you have a dictionary d1.     how creates a variable d2 which contains a copy of d1.\n",
    "# d2 = dict(d1.items())      , d2 = {}   d2.update(d1)             , d2 = dict(d1)\n",
    "\n",
    "d = {}\n",
    "\n",
    "with open('datax/kv.txt', 'r') as fh:\n",
    "    for line in fh:\n",
    "            if not line.strip():    # if line is empty\n",
    "                print('line empty')\n",
    "                continue            # skip it\n",
    "            k, v = line.split()\n",
    "            l = d.get(k, [])\n",
    "            l.append(int(v))\n",
    "            #print(l)\n",
    "            d[k] = l\n",
    "            \n",
    "print(d)\n"
   ]
  },
  {
   "cell_type": "code",
   "execution_count": null,
   "metadata": {},
   "outputs": [],
   "source": [
    "# Python 3, MAP returns an iterator, it omits storing the full size list in the memory. \n",
    "# So that you can easily iterate over it in the future not making any pain to memory. \n",
    "# Possibly you even don't need a full list, but the part of it, until your condition is reached.\n",
    "\n",
    "m, n = map(int, input().split())  # unpacking from iterator\n",
    "print(m, n)\n",
    "l = map(int, input().split())   # returns just iterable map object\n",
    "print(l)\n",
    "print(list(l))"
   ]
  },
  {
   "cell_type": "code",
   "execution_count": 7,
   "metadata": {},
   "outputs": [
    {
     "name": "stdout",
     "output_type": "stream",
     "text": [
      "[3, 7, 11]\n"
     ]
    },
    {
     "data": {
      "text/plain": [
       "<map at 0x24811f00128>"
      ]
     },
     "execution_count": 7,
     "metadata": {},
     "output_type": "execute_result"
    }
   ],
   "source": [
    "# if you need to give the function a name, use def. \n",
    "# I reserve lambda functions for cases where I'm just passing \n",
    "# a brief snippet of code to another function, e.g.:\n",
    "# --- map ( func, iterable) ---- returns in map object\n",
    "aiterable = [ (1,2), (3,4), (5,6) ]\n",
    "b = map( lambda x: x[0]+x[1], aiterable )\n",
    "print(list(b))\n",
    "b\n"
   ]
  },
  {
   "cell_type": "code",
   "execution_count": 3,
   "metadata": {},
   "outputs": [
    {
     "name": "stdout",
     "output_type": "stream",
     "text": [
      "[2, 4, 6, 8]\n"
     ]
    },
    {
     "data": {
      "text/plain": [
       "[2, 4, 6, 8]"
      ]
     },
     "execution_count": 3,
     "metadata": {},
     "output_type": "execute_result"
    }
   ],
   "source": [
    "# Double all numbers \n",
    "# using map and lambda( anonymouce function for one time call)\n",
    "\n",
    "numbers = (1, 2, 3, 4)\n",
    "result = map(lambda x: x + x, numbers)\n",
    "#print(result)\n",
    "print(list(result))\n",
    "\n",
    "# using List Comprehension\n",
    "lst = [x+x for x in numbers]\n",
    "lst"
   ]
  },
  {
   "cell_type": "code",
   "execution_count": 16,
   "metadata": {},
   "outputs": [
    {
     "name": "stdout",
     "output_type": "stream",
     "text": [
      "{'a': 1, 'b': 2, 'c': 3}\n",
      "{'age': ['0-20', '20-40', '40-60', '60-80']}\n"
     ]
    }
   ],
   "source": [
    "keys = ['a', 'b', 'c']\n",
    "values = [1, 2, 3]\n",
    "\n",
    "d = dict(zip(keys, values))\n",
    "\n",
    "print(d)\n",
    "\n",
    "lst = [(1,2), (3,4), (8,9)]\n",
    "\n",
    "print(*lst)          # *lst is unpacking to (1, 2) (3, 4) (8, 9)\n",
    "list(zip(*lst))    #   [(1, 3, 8), (2, 4, 9)]\n",
    "\n",
    "\n",
    "\n",
    "dict_a = [{'name': 'python', 'points': 10}, {'name': 'java', 'points': 8}]\n",
    "  \n",
    "map(lambda x : x['name'], dict_a) # Output: ['python', 'java']\n",
    "  \n",
    "map(lambda x : x['points']*10,  dict_a) # Output: [100, 80]\n",
    "\n",
    "map(lambda x : x['name'] == \"python\", dict_a) # Output: [True, False]\n",
    "\n",
    "\n",
    "\n",
    "list_a = [1, 2, 3]\n",
    "list_b = [10, 20, 30]\n",
    "  \n",
    "map(lambda x, y: x + y, list_a, list_b) # Output: [11, 22, 33]\n",
    "\n",
    "d ={'age': ['0-20', '20-40', '40-60','60-80']}\n",
    "print(d)\n"
   ]
  },
  {
   "cell_type": "code",
   "execution_count": 1,
   "metadata": {},
   "outputs": [
    {
     "name": "stdout",
     "output_type": "stream",
     "text": [
      "['f', 'e', 'd', 'c', 'b', 'a']\n",
      "['b', 'a']\n",
      "['f', 'e']\n",
      "['d', 'c', 'b', 'a']\n"
     ]
    }
   ],
   "source": [
    "# List slicing\n",
    "#      +---+---+---+---+---+---+\n",
    "#      |  p  |  y |  t  |  h  |  o  |  n |\n",
    "#      +---+---+---+---+---+---+\n",
    "#         0      1     2     3     4     5     6      \n",
    "# -7   -6     -5   -4   -3    -2    -1            \n",
    "\n",
    "# a [ start(include) : stop(exclude) : step ]      # start through not past stop, by step\n",
    "\n",
    "# When step is negative, the defaults for start and stop change.\n",
    "# a [ : : -1]  ==> a [ None: None: -1] ==>   a [ len(a) -1 : -len(a) -1 : -1]\n",
    "\n",
    "x = ['a', 'b', 'c', 'd', 'e', 'f']\n",
    "\n",
    "# reversed with slicing\n",
    "print(x[::-1])        # all items\n",
    "print(x[1::-1])       # first two items\n",
    "print(x[:-3:-1])    # last two items\n",
    "print(x[-3::-1])    # everything except last two items\n",
    "\n",
    "\n",
    "# a[start:stop]  # items start through stop-1\n",
    "# a[start:]      # items start through the rest of the array\n",
    "# a[:stop]       # items from the beginning through stop-1\n",
    "# a[:]           # a copy of the whole array\n"
   ]
  },
  {
   "cell_type": "code",
   "execution_count": 17,
   "metadata": {},
   "outputs": [
    {
     "name": "stdout",
     "output_type": "stream",
     "text": [
      "['a', 'b', 'c', 'd', 'e', 'f']\n",
      "{'age', 'food', 'name'}\n"
     ]
    },
    {
     "data": {
      "text/plain": [
       "{'name': 'Monty', 'age': 55, 'food': 'apam'}"
      ]
     },
     "execution_count": 17,
     "metadata": {},
     "output_type": "execute_result"
    }
   ],
   "source": [
    "# List Comprehension\n",
    "alist = [('a','b'),['c'], ['d','e','f']]\n",
    "# flatten a list\n",
    "fl = [chr for outer in alist for chr in outer]\n",
    "print(fl)\n",
    "\n",
    "# l = []\n",
    "# for outer in alist:\n",
    "#     for chr in outer:\n",
    "#         l.append(chr)\n",
    "    \n",
    "# Dictionary comprehension\n",
    "keys = ('name', 'age', 'food')\n",
    "values = ('Monty', 55, 'apam')\n",
    "\n",
    "dic = {k : v for k,v in zip(keys, values)}\n",
    "\n",
    "# looping over a dictionary only yields the keys.\n",
    "print( {k for k in dic} )\n",
    "\n",
    "# Use d.items() to loop over both keys and values.\n",
    "{k : v for k, v in dic.items()}\n"
   ]
  },
  {
   "cell_type": "code",
   "execution_count": 5,
   "metadata": {},
   "outputs": [
    {
     "name": "stdout",
     "output_type": "stream",
     "text": [
      "[{'name': 'Hatfield', 'postcode': 'AL9 5JP'}, {'name': 'St_Albans', 'postcode': 'AL1 2RJ'}, {'name': 'Worthing', 'postcode': 'BN14 9GB'}]\n",
      "<module 'ntpath' from 'D:\\\\Anaconda3\\\\lib\\\\ntpath.py'> \n",
      "\n",
      "['1', '2', '3', '4', '5']\n"
     ]
    },
    {
     "data": {
      "text/plain": [
       "[{'a': 1, 'b': 2}, 3, 4]"
      ]
     },
     "execution_count": 5,
     "metadata": {},
     "output_type": "execute_result"
    }
   ],
   "source": [
    "storesdata = [{'name': 'St_Albans', 'postcode': 'AL1 2RJ'}, {'name': 'Hatfield', 'postcode': 'AL9 5JP'}, {'name': 'Worthing', 'postcode': 'BN14 9GB'}]\n",
    "storesdata[0]\n",
    "print(sorted(storesdata, key = lambda i: i['name'],reverse=False))\n",
    "\n",
    "#################\n",
    "import os, sys\n",
    "print(os.path, '\\n')\n",
    "#print(sys.path)\n",
    "\n",
    "score=[1,2,3,4,5]\n",
    "\n",
    "with open(\"file.txt\", 'w') as f:\n",
    "    for s in score:\n",
    "        f.write(str(s) + '\\n')\n",
    "\n",
    "with open(\"file.txt\", 'r') as f:\n",
    "    score = [line.rstrip('\\n') for line in f]\n",
    "\n",
    "print(score)  # this results in the elements in the list being strings not integers.\n",
    "\n",
    "\n",
    "#################\n",
    "# you can use pickle module for that. This module have two methods,\n",
    "\n",
    "# Pickling(dump): Convert Python objects into string representation.\n",
    "# Unpickling(load): Retrieving original objects from stored string representstion.\n",
    "\n",
    "import pickle\n",
    "\n",
    "l = [{'a':1,'b':2},3,4]\n",
    "with open(\"test.txt\", \"wb\") as fp:   #Pickling\n",
    "    pickle.dump(l, fp)\n",
    "\n",
    "with open(\"test.txt\", \"rb\") as fp:   # Unpickling\n",
    "   b = pickle.load(fp)\n",
    "\n",
    "b"
   ]
  },
  {
   "cell_type": "code",
   "execution_count": 3,
   "metadata": {},
   "outputs": [
    {
     "name": "stdout",
     "output_type": "stream",
     "text": [
      "(24, 12)\n",
      "[24, 35, 9, 56, 12]\n",
      "None [12, 56, 9, 35, 24]\n",
      "[12, 56, 9, 35, 24] [24, 35, 9, 56, 12]\n"
     ]
    }
   ],
   "source": [
    "# Swap the first and last element only \n",
    "def swapList(alist):  \n",
    "    # Storing the first and last element as a pair in a tuple variable( get )\n",
    "    get =(alist[-1], alist[0])       \n",
    "    print(get)\n",
    "    # unpacking those elements \n",
    "    alist[0], alist[-1] = get  \n",
    "    #print(alist)\n",
    "    return alist\n",
    "\n",
    "newList = [12, 35, 9, 56, 24] \n",
    "print(swapList(newList)) \n",
    "\n",
    "# Reverse whole list.\n",
    "# it directly modifies the original list object.\n",
    "print(newList.reverse(), newList)  \n",
    "\n",
    "# produces a reversed copy list\n",
    "print(newList, newList[::-1])   "
   ]
  },
  {
   "cell_type": "code",
   "execution_count": 20,
   "metadata": {},
   "outputs": [],
   "source": [
    "# @ To find out if line is empty. ( size 0 or contains only whitespace )\n",
    "\n",
    "if not line.strip():    # if line is empty\n",
    "    pass                # skip it\n"
   ]
  },
  {
   "cell_type": "code",
   "execution_count": 4,
   "metadata": {},
   "outputs": [
    {
     "name": "stdout",
     "output_type": "stream",
     "text": [
      "0\n",
      "3\n",
      "6\n",
      "9\n"
     ]
    },
    {
     "data": {
      "text/plain": [
       "[[1, 2, 3], [4, 5, 6], [7, 8, 9], [10]]"
      ]
     },
     "execution_count": 4,
     "metadata": {},
     "output_type": "execute_result"
    }
   ],
   "source": [
    "# with Generator\n",
    "# chunk the list by n\n",
    "\n",
    "my_list = [1,2,3,4,5,6,7,8,9,10]\n",
    "n = 3\n",
    "\n",
    "def divide_chunks(lst, n):       \n",
    "    # looping till length lst \n",
    "    for i in range(0, len(lst), n):  \n",
    "        print(i)\n",
    "        yield lst[i:i + n]   \n",
    " \n",
    "        \n",
    "x = list(divide_chunks(my_list, n)) \n",
    "x"
   ]
  },
  {
   "cell_type": "code",
   "execution_count": 3,
   "metadata": {},
   "outputs": [
    {
     "name": "stdout",
     "output_type": "stream",
     "text": [
      "<class 'int'> 999\n",
      "8\n",
      "2\n",
      "999\n"
     ]
    }
   ],
   "source": [
    "b = [1,2,3,4,6,7,99,88,999]\n",
    "\n",
    "#dir()\n",
    "#del(max)   --- to delete local variable max if there is.\n",
    "highest = max(b)\n",
    "print(type(highest), highest)\n",
    "print(b.index(highest))\n",
    "print(b.index(3))\n",
    "\n",
    "# this approach is without using max() function\n",
    "maxv = 0\n",
    "for i in b:\n",
    "    if i > maxv:\n",
    "        maxv = i\n",
    "        \n",
    "print(maxv)\n"
   ]
  },
  {
   "cell_type": "code",
   "execution_count": 5,
   "metadata": {},
   "outputs": [
    {
     "name": "stdout",
     "output_type": "stream",
     "text": [
      "[3, 4]\n",
      "[[1, 2], [5, 6]]\n"
     ]
    },
    {
     "data": {
      "text/plain": [
       "Counter({1: 1, 2: 2, 3: 2, 4: 2, 5: 1})"
      ]
     },
     "execution_count": 5,
     "metadata": {},
     "output_type": "execute_result"
    }
   ],
   "source": [
    "# @ Find common numbers from two list using list comprehension\n",
    "list_a = [1, 2, 3, 4]\n",
    "list_b = [3, 4, 5, 6]\n",
    "#common_num = [a for a in list_a for b in list_b if a == b]\n",
    "common_num = [a for a in list_a if a in list_b]\n",
    "print(common_num)\n",
    "\n",
    "#compare two lists in python and return not matches\n",
    "new_num = [[x for x in list_a if x not in list_b], [a for a in list_b if a not in list_a]]\n",
    "print(new_num)\n",
    "\n",
    "# @ faster finding duplicated in a list\n",
    "the_list = [1,2,3,4,2,3,4,5]\n",
    "from collections import Counter\n",
    "Counter(the_list)\n"
   ]
  },
  {
   "cell_type": "code",
   "execution_count": 5,
   "metadata": {},
   "outputs": [
    {
     "name": "stdout",
     "output_type": "stream",
     "text": [
      "2\n",
      "programming is awesome\n",
      "4\n"
     ]
    }
   ],
   "source": [
    "def is_vowel(letter):\n",
    "    return letter in ['a', 'e', 'i', 'o', 'u', 'y']\n",
    "\n",
    "def score_words(words):\n",
    "    score = 0\n",
    "    for word in words:\n",
    "        num_vowels = 0\n",
    "        for letter in word:\n",
    "            if is_vowel(letter):\n",
    "                num_vowels += 1\n",
    "                \n",
    "        if num_vowels != 0 and num_vowels % 2 == 0:\n",
    "            score += 2\n",
    "        else:\n",
    "            score += 1\n",
    "        \n",
    "    return score\n",
    "\n",
    "#res = score_words('programming is awesome')\n",
    "#res\n",
    "#n = int(input())\n",
    "words = input().split()\n",
    "print(score_words(words))"
   ]
  },
  {
   "cell_type": "code",
   "execution_count": 10,
   "metadata": {},
   "outputs": [
    {
     "name": "stdout",
     "output_type": "stream",
     "text": [
      "2 3\n",
      "1 2 3 4 5\n",
      " 23 33 43\n",
      "1874\n",
      "2\n"
     ]
    }
   ],
   "source": [
    "def calc_max_sum(m, lsts):\n",
    "    sums = 0\n",
    "    for lst in lsts:\n",
    "        sums += max(lst[1:])**2\n",
    "    print(sums)\n",
    "    return sums%m\n",
    "    \n",
    "    \n",
    "k, m = [int(i) for i in input().split()]\n",
    "lsts = []\n",
    "for _ in range(k):\n",
    "    lsts += [input().split()]\n",
    "\n",
    "#lst_nested = [['2', '3', '4'], ['3', '4', '5', '6']]\n",
    "#new_list = [[int(x) for x in lst] for lst in lst_nested]\n",
    "lsts = [[int(i) for i in lst] for lst in lsts ]\n",
    "\n",
    "#print(lsts)\n",
    "print(calc_max_sum(m, lsts))"
   ]
  }
 ],
 "metadata": {
  "kernelspec": {
   "display_name": "Python 3",
   "language": "python",
   "name": "python3"
  },
  "language_info": {
   "codemirror_mode": {
    "name": "ipython",
    "version": 3
   },
   "file_extension": ".py",
   "mimetype": "text/x-python",
   "name": "python",
   "nbconvert_exporter": "python",
   "pygments_lexer": "ipython3",
   "version": "3.7.3"
  }
 },
 "nbformat": 4,
 "nbformat_minor": 2
}
