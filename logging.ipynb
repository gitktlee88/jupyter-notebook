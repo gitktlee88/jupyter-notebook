{
 "cells": [
  {
   "cell_type": "code",
   "execution_count": 3,
   "metadata": {},
   "outputs": [
    {
     "name": "stdout",
     "output_type": "stream",
     "text": [
      "10\n"
     ]
    }
   ],
   "source": [
    "#     Logging\n",
    "# Purpose: Record progress and problems...\n",
    "# Levels:  NOTSET(0),  Debug(10),  Info(20),  Warning(30),  Error(40),  Critical(50)\n",
    "\n",
    "import logging\n",
    "#dir(logging)\n",
    "\n",
    "# Create and configure logger\n",
    "LOG_FORMAT = \"%(levelname)s %(asctime)s - %(message)s\"\n",
    "\n",
    "#logging.basicConfig(filename = \"LumberJack.log\")      # default is Warning\n",
    "logging.basicConfig(filename = \"D:/data/LumberJack.log\",\n",
    "                   level = logging.DEBUG,\n",
    "                   format = LOG_FORMAT,\n",
    "                   filemode = 'w')    # to overwrite previous logs\n",
    "\n",
    "logger = logging.getLogger()\n",
    "\n",
    "# Test the logger\n",
    "logger.info(\"Our second message.\")\n",
    "\n",
    "print(logger.level)\n",
    "\n",
    "#%%writefile \"directory/to/file/filename.py\""
   ]
  },
  {
   "cell_type": "code",
   "execution_count": 3,
   "metadata": {},
   "outputs": [
    {
     "ename": "SyntaxError",
     "evalue": "invalid syntax (<ipython-input-3-59502742694e>, line 3)",
     "output_type": "error",
     "traceback": [
      "\u001b[1;36m  File \u001b[1;32m\"<ipython-input-3-59502742694e>\"\u001b[1;36m, line \u001b[1;32m3\u001b[0m\n\u001b[1;33m    ffrom logbook import Logger, StreamHandler\u001b[0m\n\u001b[1;37m                ^\u001b[0m\n\u001b[1;31mSyntaxError\u001b[0m\u001b[1;31m:\u001b[0m invalid syntax\n"
     ]
    }
   ],
   "source": [
    "# !pip install logbook\n",
    "\n",
    "from logbook import Logger, StreamHandler\n",
    "import sys\n",
    "\n",
    "StreamHandler(sys.stdout).push_application()\n",
    "\n",
    "log = Logger('A Fancy Name')\n",
    "\n",
    "log.warn('Logbook is too awesome for most applications')\n",
    "log.error(\"Can't touch this\")"
   ]
  }
 ],
 "metadata": {
  "kernelspec": {
   "display_name": "Python 3",
   "language": "python",
   "name": "python3"
  },
  "language_info": {
   "codemirror_mode": {
    "name": "ipython",
    "version": 3
   },
   "file_extension": ".py",
   "mimetype": "text/x-python",
   "name": "python",
   "nbconvert_exporter": "python",
   "pygments_lexer": "ipython3",
   "version": "3.7.3"
  }
 },
 "nbformat": 4,
 "nbformat_minor": 2
}
