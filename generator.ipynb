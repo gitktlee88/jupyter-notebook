{
 "cells": [
  {
   "cell_type": "code",
   "execution_count": 5,
   "metadata": {
    "scrolled": true
   },
   "outputs": [
    {
     "name": "stdout",
     "output_type": "stream",
     "text": [
      "[1, 4, 9, 16, 25]\n",
      "0\n",
      "1\n",
      "1\n",
      "2\n",
      "3\n",
      "\n",
      "Using for in loop\n",
      "0\n",
      "1\n",
      "1\n",
      "2\n",
      "3\n",
      "[1, 4, 9, 16, 25]\n",
      "<generator object <genexpr> at 0x000002E01D7B3408>\n",
      "[1, 4, 9, 16, 25]\n",
      "1\n",
      "4\n",
      "9\n",
      "16\n",
      "25\n"
     ]
    }
   ],
   "source": [
    "## normal function\n",
    "#-----------------------\n",
    "def square_numbers(nums):\n",
    "    result = []\n",
    "    for i in nums:\n",
    "        result.append(i*i)\n",
    "    return result\n",
    "\n",
    "my_nums = square_numbers([1,2,3,4,5])\n",
    "print(my_nums)\n",
    "\n",
    "\n",
    "\n",
    "# Python generators are a simple way of creating iterators.\n",
    "# - Generator function contains one or more yield statement.\n",
    "# - When called, it returns an object (iterator) but does not start execution immediately.\n",
    "# - Methods like __iter__() , __next__() are implemented automatically. \n",
    "#    So we can iterate through the items using next().\n",
    "# - Once the function yields, the function is paused and the control is transferred to the caller.\n",
    "# - Local variables and their states are remembered between successive calls.\n",
    "# - Finally, when the function terminates, StopIteration is raised automatically on further calls.\n",
    "\n",
    "## Fibonacci Numbers \n",
    "def fib(limit): \n",
    "      \n",
    "    # Initialize first two Fibonacci Numbers  \n",
    "    a, b = 0, 1\n",
    "  \n",
    "    # One by one yield next Fibonacci Number \n",
    "    while a < limit: \n",
    "        yield a \n",
    "        a, b = b, a + b \n",
    "  \n",
    "## Create a generator object \n",
    "x = fib(5) \n",
    "  \n",
    "    \n",
    "# Iterating over the generator object using next \n",
    "print(x.__next__()); # In Python 3, __next__() \n",
    "print(x.__next__()); \n",
    "print(x.__next__()); \n",
    "print(x.__next__()); \n",
    "print(x.__next__()); \n",
    "  \n",
    "# Iterating over the generator object using for in loop. \n",
    "print(\"\\nUsing for in loop\") \n",
    "for i in fib(5):  \n",
    "    print(i) \n",
    "    \n",
    "\n",
    "    \n",
    "    \n",
    "## List Comprehension\n",
    "my_nums = [x*x for x in [1,2,3,4,5]]\n",
    "print(my_nums)\n",
    "\n",
    "## Generator Expression\n",
    "my_nums = (x*x for x in [1,2,3,4,5])\n",
    "print(my_nums)\n",
    "l_my_nums = list(my_nums)\n",
    "print(l_my_nums)\n",
    "for num in l_my_nums:\n",
    "    print(num)\n"
   ]
  },
  {
   "cell_type": "code",
   "execution_count": 8,
   "metadata": {},
   "outputs": [
    {
     "name": "stdout",
     "output_type": "stream",
     "text": [
      "Requirement already satisfied: memory_profiler in d:\\anaconda3\\lib\\site-packages (0.55.0)\n",
      "Requirement already satisfied: psutil in d:\\anaconda3\\lib\\site-packages (from memory_profiler) (5.6.1)\n"
     ]
    }
   ],
   "source": [
    "!pip install memory_profiler"
   ]
  },
  {
   "cell_type": "code",
   "execution_count": 18,
   "metadata": {},
   "outputs": [
    {
     "name": "stdout",
     "output_type": "stream",
     "text": [
      "Memory (Before): [1915.609375]MB\n"
     ]
    },
    {
     "name": "stderr",
     "output_type": "stream",
     "text": [
      "D:\\Anaconda3\\lib\\site-packages\\ipykernel_launcher.py:35: DeprecationWarning: time.clock has been deprecated in Python 3.3 and will be removed from Python 3.8: use time.perf_counter or time.process_time instead\n"
     ]
    },
    {
     "name": "stdout",
     "output_type": "stream",
     "text": [
      "Memory (After) : [15.66015625]MB\n",
      "Took 4.302567900000213 Seconds\n"
     ]
    },
    {
     "name": "stderr",
     "output_type": "stream",
     "text": [
      "D:\\Anaconda3\\lib\\site-packages\\ipykernel_launcher.py:37: DeprecationWarning: time.clock has been deprecated in Python 3.3 and will be removed from Python 3.8: use time.perf_counter or time.process_time instead\n"
     ]
    }
   ],
   "source": [
    "import memory_profiler as mem_profile\n",
    "import random\n",
    "import time\n",
    "\n",
    "names = ['John', \"Corey\", 'Adam', 'Steve', 'Rick', 'Thomas']\n",
    "majors = ['Math', 'Engineering', 'CompSci', 'Arts', 'Business']\n",
    "\n",
    "#print('Memory (Before): {}Mb'.format(mem_profile.memory_usage_resource()))\n",
    "print('Memory (Before): ' + str(mem_profile.memory_usage()) + 'MB' )\n",
    "\n",
    "def people_list(num_people):\n",
    "    result = []\n",
    "    for i in range(num_people):\n",
    "        person = {\n",
    "            'id': i,\n",
    "            'name': random.choice(names),\n",
    "            'major': random.choice(majors)\n",
    "        }\n",
    "        result.append(person)\n",
    "    return result\n",
    "\n",
    "def people_generator(num_people):\n",
    "    for i in range(num_people):\n",
    "        person = {\n",
    "            'id': i,\n",
    "            'name': random.choice(names),\n",
    "            'major': random_choice(majors)\n",
    "        }\n",
    "        yield person\n",
    "        \n",
    "# t1 = time.clock()\n",
    "# people = people_list(10000000)\n",
    "# t2 = time.clock()\n",
    "\n",
    "t1 = time.clock()\n",
    "people = people_generator(1000000)\n",
    "t2 = time.clock()\n",
    "\n",
    "# print 'Memory (After) : {}Mb'.format(mem_profile.memory_usage_psutil())\n",
    "print('Memory (After) : ' + str(mem_profile.memory_usage()) + 'MB')\n",
    "\n",
    "# print 'Took {} Seconds'.format(t2-t1)\n",
    "print ('Took ' + str(t2-t1) + ' Seconds')"
   ]
  }
 ],
 "metadata": {
  "kernelspec": {
   "display_name": "Python 3",
   "language": "python",
   "name": "python3"
  },
  "language_info": {
   "codemirror_mode": {
    "name": "ipython",
    "version": 3
   },
   "file_extension": ".py",
   "mimetype": "text/x-python",
   "name": "python",
   "nbconvert_exporter": "python",
   "pygments_lexer": "ipython3",
   "version": "3.7.3"
  }
 },
 "nbformat": 4,
 "nbformat_minor": 2
}
