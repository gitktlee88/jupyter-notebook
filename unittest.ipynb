{
 "cells": [
  {
   "cell_type": "code",
   "execution_count": 2,
   "metadata": {},
   "outputs": [
    {
     "name": "stdout",
     "output_type": "stream",
     "text": [
      "Test Completed\n"
     ]
    }
   ],
   "source": [
    "# google search test\n",
    "from selenium import webdriver\n",
    "\n",
    "driver = webdriver.Chrome('D:/webdriver/chromedriver.exe') \n",
    "driver.implicitly_wait(10)\n",
    "#driver.maximize_window()\n",
    "driver.get('https://google.com/') \n",
    "driver.find_element_by_name(\"q\").send_keys(\"Automation Step by step\")\n",
    "driver.find_element_by_name(\"btnK\").click()\n",
    "\n",
    "driver.close()\n",
    "driver.quit()\n",
    "print(\"Test Completed\")\n",
    "\n"
   ]
  },
  {
   "cell_type": "code",
   "execution_count": 1,
   "metadata": {},
   "outputs": [],
   "source": [
    "# google search test\n",
    "from selenium import webdriver\n",
    "import unittest\n",
    "\n",
    "class GoogleSearch(unittest.TestCase):\n",
    "    \n",
    "    @classmethod\n",
    "    def setUpClass(cls):\n",
    "        cls.driver = webdriver.Chrome('D:/webdriver/chromedriver.exe') \n",
    "        cls.driver.implicitly_wait(10)\n",
    "        #cls.driver.maximize_window()\n",
    "\n",
    "    def test_search_text(self):\n",
    "        driver.get('https://google.com/') \n",
    "        driver.find_element_by_name(\"q\").send_keys(\"Automation Step by step\")\n",
    "        driver.find_element_by_name(\"btnK\").click()\n",
    "\n",
    "    def test_search_name(self):\n",
    "        driver.get('https://google.com/') \n",
    "        driver.find_element_by_name(\"q\").send_keys(\"kyungtak\")\n",
    "        driver.find_element_by_name(\"btnK\").click()\n",
    "       \n",
    "    @classmethod\n",
    "    def tearDownClass(cls):\n",
    "        driver.close()\n",
    "        driver.quit()\n",
    "        print(\"Test Completed\")\n",
    "    \n",
    "#if __name__ == '__main__':\n",
    "    #unittest.main()"
   ]
  }
 ],
 "metadata": {
  "kernelspec": {
   "display_name": "Python 3",
   "language": "python",
   "name": "python3"
  },
  "language_info": {
   "codemirror_mode": {
    "name": "ipython",
    "version": 3
   },
   "file_extension": ".py",
   "mimetype": "text/x-python",
   "name": "python",
   "nbconvert_exporter": "python",
   "pygments_lexer": "ipython3",
   "version": "3.7.3"
  }
 },
 "nbformat": 4,
 "nbformat_minor": 2
}
