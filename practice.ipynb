{
 "cells": [
  {
   "cell_type": "code",
   "execution_count": 4,
   "metadata": {},
   "outputs": [
    {
     "data": {
      "text/plain": [
       "Card(rank='7', suit='diamonds')"
      ]
     },
     "execution_count": 4,
     "metadata": {},
     "output_type": "execute_result"
    }
   ],
   "source": [
    "import collections\n",
    "\n",
    "Card = collections.namedtuple('Card', ['rank', 'suit'])\n",
    "\n",
    "class FrenchDeck:\n",
    "     ranks = [str(n) for n in range(2, 11)] + list('JQKA')\n",
    "     suits = 'spades diamonds clubs hearts'.split()\n",
    "    \n",
    "     def __init__(self):\n",
    "             self._cards = [Card(rank, suit) for suit in self.suits\n",
    "                                                                      for rank in self.ranks]\n",
    "     def __len__(self):\n",
    "             return len(self._cards)\n",
    "        \n",
    "     def __getitem__(self, position):\n",
    "             return self._cards[position]\n",
    "        \n",
    "beer_card = Card('7', 'diamonds')\n",
    "beer_card"
   ]
  },
  {
   "cell_type": "code",
   "execution_count": 1,
   "metadata": {},
   "outputs": [
    {
     "name": "stdout",
     "output_type": "stream",
     "text": [
      "9\n",
      "{1: 1, 2: 2, 3: 2, 5: 1, 7: 1, 9: 4}\n",
      "Counter({9: 4, 2: 2, 3: 2, 1: 1, 7: 1, 5: 1})\n",
      "Counter({'a': 2, 'm': 1, 'j': 1, 'i': 1, 'c': 1})\n"
     ]
    }
   ],
   "source": [
    "test = [1, 2, 3, 9, 2, 7, 3, 5, 9, 9, 9]\n",
    "#set(test)\n",
    "print(max(set(test), key = test.count))\n",
    "\n",
    "print(dict((x,test.count(x)) for x in set(test)))\n",
    "\n",
    "from collections import Counter\n",
    "print(Counter(test))\n",
    "\n",
    "print(Counter('majica'))"
   ]
  },
  {
   "cell_type": "code",
   "execution_count": 10,
   "metadata": {},
   "outputs": [
    {
     "name": "stdout",
     "output_type": "stream",
     "text": [
      "                *\n",
      "              ***\n",
      "            *****\n",
      "          *******\n",
      "        *********\n",
      "      ***********\n",
      "    *************\n",
      "  ***************\n",
      "*****************\n"
     ]
    }
   ],
   "source": [
    "def pyfun(r):\n",
    "    for x in range(r):\n",
    "        print('  '*(r - x - 1) + '*'*(2*x + 1))  \n",
    "        \n",
    "pyfun(9)"
   ]
  },
  {
   "cell_type": "code",
   "execution_count": 2,
   "metadata": {},
   "outputs": [],
   "source": [
    "# duck typing\n",
    "# “If it walks like a duck and quacks like a duck then it is a duck.”\n",
    "\n",
    "class Duck:\n",
    "    def fly(self):\n",
    "        print(\"Duck flying\")\n",
    "\n",
    "class Airplane:\n",
    "    def fly(self):\n",
    "        print(\"Airplane flying\")\n",
    "\n",
    "class Whale:\n",
    "    def swim(self):\n",
    "        print(\"Whale swimming\")\n",
    "\n",
    "for animal in Duck(), Airplane(), Whale():\n",
    "    animal.fly()"
   ]
  },
  {
   "cell_type": "code",
   "execution_count": 3,
   "metadata": {},
   "outputs": [
    {
     "name": "stdout",
     "output_type": "stream",
     "text": [
      "['Tutorials', 'Point', 'is', 'best']\n",
      "T.u.t.o.r.i.a.l.s.P.o.i.n.t.i.s.b.e.s.t.\n",
      "-20\n",
      "1\n",
      "-1\n",
      "144\n",
      "1\n",
      "1.5\n",
      "1\n",
      "97\n",
      "33\n",
      "False\n",
      "abcdef\n",
      "cabcdef\n",
      "True\n",
      "False\n",
      "0\n",
      "[1, 2, 3]\n",
      "2\n",
      "[5, 20, 5, 4, 3]\n",
      "[5, 20, 5, 4]\n"
     ]
    },
    {
     "data": {
      "text/plain": [
       "2"
      ]
     },
     "execution_count": 3,
     "metadata": {},
     "output_type": "execute_result"
    }
   ],
   "source": [
    "strings = \"Tutorials   Point is best\"\n",
    "\n",
    "print(strings.split())\n",
    "\n",
    "for i in ''.join(strings.split()):\n",
    "   print(i, end= \".\")\n",
    "\n",
    "print()\n",
    "\n",
    "print(~~~~~19)  # ~x is equivalent to -(x+1)\n",
    "\n",
    "List1 = [5, 50, 55, 555, 5555]\n",
    "\n",
    "print(List1.count(5))\n",
    "\n",
    "print('search'. find('S'))   #method search is case sensitive\n",
    "\n",
    "print(int(144))\n",
    "\n",
    "print(3//2)        # 3 // 2 = 1  Floor division (AKA Integer division)\n",
    "print(3/2)         # float\n",
    "print(9%2)\n",
    "print(ord('a'))\n",
    "print(0xA + 0xB + 0xC)\n",
    "print (0.1 + 0.2 == 0.3)\n",
    "\n",
    "print('abcdef'.center(0)) \n",
    "#print('abcdef'.center(7,1))\n",
    "print('abcdef'.center(7,'c'))\n",
    "\n",
    "print(\"xyyzxyzxzxyy\".endswith(\"xyy\"))\n",
    "print(\"xyyzxyzxzxyy\".endswith(\"xyy\", 0, 2))\n",
    "print(\"ccdcddcd\".find(\"c\"))\n",
    "list1 = list([1, 2, 3])\n",
    "print(list1)\n",
    "list1 = [3, 4, 5, 20, 5]\n",
    "print(list1.index(5))\n",
    "list1.reverse()\n",
    "print(list1)\n",
    "list1.pop()\n",
    "print(list1)\n",
    "\n",
    "d = {\"john\":40, \"peter\":45}\n",
    "#d.len() # error\n",
    "#size(d) # error\n",
    "len(d)\n",
    "\n",
    "#a = {10,9,8,7} # set\n",
    "#a.remove(14)"
   ]
  },
  {
   "cell_type": "code",
   "execution_count": 2,
   "metadata": {},
   "outputs": [
    {
     "name": "stdout",
     "output_type": "stream",
     "text": [
      "1234\n",
      "['Milk, Chicken', 'Bread', 'Butter']\n",
      "['Milk, Chicken, Bread', 'Butter']\n",
      "['Milk', 'Chicken', 'Bread', 'Butter']\n",
      "['Milk, Chicken, Bread, Butter']\n"
     ]
    }
   ],
   "source": [
    "s = '111 \"http 404\" 200 1234'\n",
    "a = s.rsplit(None,1) [1]\n",
    "print(a)\n",
    "#b = s.lsplit(None,1) [1]    # 'str' object has no attribute 'lsplit'\n",
    "#print(b)\n",
    "\n",
    "grocery = 'Milk, Chicken, Bread, Butter'\n",
    "\n",
    "# maxsplit: 2\n",
    "print(grocery.rsplit(', ', 2))\n",
    "\n",
    "# maxsplit: 1\n",
    "print(grocery.rsplit(', ', 1))\n",
    "\n",
    "# maxsplit: 5\n",
    "print(grocery.rsplit(', ', 5))\n",
    "\n",
    "# maxsplit: 0\n",
    "print(grocery.rsplit(', ', 0))"
   ]
  },
  {
   "cell_type": "code",
   "execution_count": 1,
   "metadata": {},
   "outputs": [
    {
     "data": {
      "text/plain": [
       "'38:C:5A-1E:A9:DD'"
      ]
     },
     "execution_count": 1,
     "metadata": {},
     "output_type": "execute_result"
    }
   ],
   "source": [
    "import re \n",
    "\n",
    "MAC = \"38:C:5A-1e:a9:DD\"\n",
    "#MAC = \":\".join(MAC.split(\"-\")).zfill(2)\n",
    "#MAC = \":\".join(MAC.split(\":\")).upper()\n",
    "#MAC\n",
    "\n",
    "# MAC = \":\".join(MAC.split(\"-\"))\n",
    "# MAC = \":\".join([c.zfill(2) for c in MAC.split(\":\")]).upper()\n",
    "MAC = \":\".join([c.zfill(2) for c in re.split(\":|-\", MAC)]).upper()\n",
    "MAC"
   ]
  },
  {
   "cell_type": "code",
   "execution_count": 7,
   "metadata": {},
   "outputs": [
    {
     "name": "stdout",
     "output_type": "stream",
     "text": [
      "['a', 'aa', 'aaa', 'b', 'bb']\n"
     ]
    },
    {
     "data": {
      "text/plain": [
       "[{'name': 'Mark', 'age': 5},\n",
       " {'name': 'Pam', 'age': 7},\n",
       " {'name': 'Tom', 'age': 10}]"
      ]
     },
     "execution_count": 7,
     "metadata": {},
     "output_type": "execute_result"
    }
   ],
   "source": [
    "mylist=['a', 'aa', 'aaa', 'b', 'bb', 'bbb']\n",
    "print(mylist[:-1])\n",
    "\n",
    "mydiclist = [\n",
    "    {\"name\": \"Tom\", \"age\": 10},\n",
    "    {\"name\": \"Mark\", \"age\": 5},\n",
    "    {\"name\": \"Pam\", \"age\": 7}\n",
    "]\n",
    "newlist = sorted(mydiclist, key=lambda d: d['age'])\n",
    "newlist"
   ]
  },
  {
   "cell_type": "code",
   "execution_count": 2,
   "metadata": {},
   "outputs": [
    {
     "name": "stdout",
     "output_type": "stream",
     "text": [
      "b\n",
      "True\n",
      "True\n",
      "Xyz. qwe\n",
      "total of 2 and 10 is 13\n",
      "1xyzqwe\n",
      "True\n"
     ]
    }
   ],
   "source": [
    "import re\n",
    "\n",
    "s = 'a b c'\n",
    "matched = re.match(r'(.*) (.*?) (.*)', s)\n",
    "print(matched.group(2))\n",
    "print('a@ 1,'.islower())\n",
    "print('for'.isidentifier())\n",
    "#print(\"xyzqwe\".center())\n",
    "print(\"xyz. QWE\".capitalize())\n",
    "#print('total of {0:n} and {1:a} is {2:m}'.format(2, 10, 12))\n",
    "print('total of {0} and {1} is {2}'.format(2, 10, 13))\n",
    "print(\"xyzqwe\".center(7, '1'))\n",
    "print(9%0o11 == 0)"
   ]
  },
  {
   "cell_type": "code",
   "execution_count": null,
   "metadata": {},
   "outputs": [],
   "source": [
    "# interface   vs    abstract class\n",
    "\"\"\" \n",
    "In a more basic way to explain: \n",
    "An interface is sort of like an empty muffin pan. \n",
    "It's a class file with a set of method definitions that have no code.\n",
    "\n",
    "An abstract class is the same thing, but not all functions need to be empty. \n",
    "Some can have code. It's not strictly empty.\n",
    "\n",
    "Why differentiate: There's not much practical difference in Python, but on the planning level \n",
    "for a large project, it could be more common to talk about interfaces, since there's no code. \n",
    "Especially if you're working with Java programmers who are accustomed to the term.\n",
    "\"\"\"\n",
    "\n",
    "\n",
    "# Partial Function \n",
    "\n",
    "import functools\n",
    "\n",
    "def adder(x, y):\n",
    "  return x + y\n",
    "\n",
    "# it adds!\n",
    "assert adder(1, 1) == 2\n",
    "assert adder(5, 5) == 10\n",
    "assert adder(6, 2) == 8\n",
    "\n",
    "# pre fill y with the value 5 \n",
    "add_five = functools.partial(adder, y=5)\n",
    "\n",
    "#now it adds 5!\n",
    "# x=1, y=5\n",
    "assert add_five(1) == 6\n",
    "# x=5, y=5\n",
    "assert add_five(5) == 10\n",
    "# x=2, y=5\n",
    "assert add_five(2) == 7"
   ]
  },
  {
   "cell_type": "code",
   "execution_count": 1,
   "metadata": {},
   "outputs": [
    {
     "name": "stdout",
     "output_type": "stream",
     "text": [
      "[[1, 2, 3], [4, 5, 6], [7, 8, 9], [10]]\n"
     ]
    }
   ],
   "source": [
    "my_list = [1,2,3,4,5,6,7,8,9,10]\n",
    "\n",
    "def divide_chunks(l, n):       \n",
    "    # looping till length of list \n",
    "    for i in range(0, len(l), n):  \n",
    "        yield l[i:i + n]   \n",
    "\n",
    "# How many elements each list should have \n",
    "n = 3  \n",
    "x = list(divide_chunks(my_list, n)) \n",
    "\n",
    "print (x) \n"
   ]
  },
  {
   "cell_type": "code",
   "execution_count": 13,
   "metadata": {},
   "outputs": [
    {
     "name": "stdout",
     "output_type": "stream",
     "text": [
      "line empty\n",
      "line empty\n",
      "{'a': [1, 33], 'b': [2], 'c': [3, 22], 'd': [4]}\n"
     ]
    }
   ],
   "source": [
    "d = {}\n",
    "\n",
    "with open('kv.txt', 'r') as fh:\n",
    "    for line in fh:\n",
    "            if not line.strip():    # if line is empty\n",
    "                print('line empty')\n",
    "                continue            # skip it\n",
    "            k, v = line.split()\n",
    "            l = d.get(k, [])\n",
    "            l.append(int(v))\n",
    "            #print(l)\n",
    "            d[k] = l\n",
    "print(d)\n"
   ]
  },
  {
   "cell_type": "code",
   "execution_count": 4,
   "metadata": {},
   "outputs": [
    {
     "name": "stdout",
     "output_type": "stream",
     "text": [
      "string1string2string1string2string1string2\n"
     ]
    }
   ],
   "source": [
    "# Write the code for a Python function expand(x) that takes a list of strings, concatenates them, \n",
    "# and returns the resulting string repeated three times\n",
    "def expand(x):\n",
    "    return ''.join(x) * 3\n",
    "\n",
    "s = expand(['string1', 'string2'])\n",
    "print(s)"
   ]
  },
  {
   "cell_type": "code",
   "execution_count": 8,
   "metadata": {},
   "outputs": [
    {
     "name": "stdout",
     "output_type": "stream",
     "text": [
      "[]\n"
     ]
    }
   ],
   "source": [
    "# remove all the values from a list\n",
    "a = ['foo', 'bar', 'baz', 'qux', 'corge']\n",
    "\n",
    "a.clear()\n",
    "#a = []\n",
    "#while a: a.pop()\n",
    "\n",
    "print(a)"
   ]
  },
  {
   "cell_type": "code",
   "execution_count": 1,
   "metadata": {},
   "outputs": [
    {
     "name": "stdout",
     "output_type": "stream",
     "text": [
      "corge\n",
      "qux\n",
      "baz\n",
      "Done.\n"
     ]
    }
   ],
   "source": [
    "a = ['foo', 'bar', 'baz', 'qux', 'corge']\n",
    "while a:\n",
    "    #print(a)\n",
    "    if len(a) < 3:\n",
    "        break\n",
    "    print(a.pop())\n",
    "    \n",
    "print('Done.')"
   ]
  },
  {
   "cell_type": "code",
   "execution_count": 5,
   "metadata": {},
   "outputs": [
    {
     "name": "stdout",
     "output_type": "stream",
     "text": [
      "50\n"
     ]
    },
    {
     "data": {
      "text/plain": [
       "'.'"
      ]
     },
     "execution_count": 5,
     "metadata": {},
     "output_type": "execute_result"
    }
   ],
   "source": [
    "a = 100\n",
    "b = 50\n",
    "\n",
    "m = a if a <b else b\n",
    "#m = min(a,b)\n",
    "print(m)\n",
    "\n",
    "import os\n",
    "os.getcwd()\n",
    "os.listdir(os.curdir)\n",
    "#os.curdir"
   ]
  },
  {
   "cell_type": "code",
   "execution_count": 6,
   "metadata": {},
   "outputs": [
    {
     "name": "stdout",
     "output_type": "stream",
     "text": [
      "3\n",
      "4567555566667777\n"
     ]
    }
   ],
   "source": [
    "s = '4567-5555-6666-7777'\n",
    "ss = ''.join(s.split('-'))\n",
    "print(s.count('-'))\n",
    "print(ss)"
   ]
  },
  {
   "cell_type": "code",
   "execution_count": 13,
   "metadata": {
    "scrolled": true
   },
   "outputs": [
    {
     "name": "stdout",
     "output_type": "stream",
     "text": [
      "2\n",
      "4567123456785678\n",
      "Valid\n",
      "4567123456785678\n",
      "Valid\n"
     ]
    }
   ],
   "source": [
    "def check(s):\n",
    "    ss = ''.join(s.split('-'))\n",
    "    for i in range(len(ss) - 3):\n",
    "        if ss[i] == ss[i+1] and ss[i] == ss[i+2] and ss[i] == ss[i+3]:\n",
    "            return False\n",
    "    return True\n",
    "\n",
    "import re\n",
    "p1 = re.compile('^[4-6][0-9]{15}$')\n",
    "p2 = re.compile('^[4-6][0-9]{3}(-[0-9]{4}){3}$')\n",
    "\n",
    "for _ in range(int(input())):\n",
    "    s = input()\n",
    "    \n",
    "    if s == \"exit\":\n",
    "      break\n",
    "    \n",
    "    if (p1.match(s) or p2.match(s)) and check(s):\n",
    "        print(\"Valid\")\n",
    "    else:\n",
    "        print(\"Invalid\")"
   ]
  },
  {
   "cell_type": "code",
   "execution_count": 23,
   "metadata": {},
   "outputs": [
    {
     "name": "stdout",
     "output_type": "stream",
     "text": [
      "[2, 4, 6, 8]\n"
     ]
    }
   ],
   "source": [
    "numbers = (1, 2, 3, 4)\n",
    "result = map(lambda x: x + x, numbers)\n",
    "#print(result)\n",
    "print(list(result))"
   ]
  },
  {
   "cell_type": "code",
   "execution_count": 12,
   "metadata": {},
   "outputs": [
    {
     "name": "stdout",
     "output_type": "stream",
     "text": [
      "x: 14, y: 8, z: 10\n",
      "3 2 3.5\n",
      "NoNo!!!\n",
      "No!!!No!!!\n",
      "how\n",
      "is it\n",
      "now\n",
      "23\n",
      "Lo\n",
      "Hi\n",
      "Hi\n"
     ]
    }
   ],
   "source": [
    "x = 5\n",
    "y = x + 3\n",
    "x = x - 1\n",
    "z = 10\n",
    "x = x + z\n",
    "print('x: {}, y: {}, z: {}'.format(x, y, z))\n",
    "\n",
    "print(14//4, 14%4, 14.0/4)\n",
    "print(2*'No' + 3*'!')\n",
    "print(2 * ('No' + 3*'!'))\n",
    "print('how\\nis it\\nnow')\n",
    "print('2' + '3')\n"
   ]
  },
  {
   "cell_type": "code",
   "execution_count": 18,
   "metadata": {
    "scrolled": true
   },
   "outputs": [
    {
     "name": "stdout",
     "output_type": "stream",
     "text": [
      "type two numbers3 5\n",
      "m = 3 n = 5\n"
     ]
    }
   ],
   "source": [
    "m,n = map(int, input(\"type two numbers\").split())\n",
    "print(\"m = {}, n = {}\".format(m, n))"
   ]
  },
  {
   "cell_type": "code",
   "execution_count": 2,
   "metadata": {},
   "outputs": [
    {
     "name": "stdout",
     "output_type": "stream",
     "text": [
      "localhost,root,nbuser,mydic\n",
      "name = yasoob\n",
      "arg3 = 3\n",
      "arg2 = two\n",
      "arg1 = 5\n"
     ]
    }
   ],
   "source": [
    "import os\n",
    "\n",
    "print(os.environ['CONN'])\n",
    "\n",
    "def greet_me(**kwargs):\n",
    "    for key, value in kwargs.items():\n",
    "        print(\"{0} = {1}\".format(key, value))\n",
    "\n",
    "kwargs = {\"arg3\": 3, \"arg2\": \"two\", \"arg1\": 5}\n",
    "greet_me(name=\"yasoob\")\n",
    "greet_me(**kwargs)"
   ]
  }
 ],
 "metadata": {
  "kernelspec": {
   "display_name": "Python 3",
   "language": "python",
   "name": "python3"
  },
  "language_info": {
   "codemirror_mode": {
    "name": "ipython",
    "version": 3
   },
   "file_extension": ".py",
   "mimetype": "text/x-python",
   "name": "python",
   "nbconvert_exporter": "python",
   "pygments_lexer": "ipython3",
   "version": "3.7.3"
  }
 },
 "nbformat": 4,
 "nbformat_minor": 2
}
