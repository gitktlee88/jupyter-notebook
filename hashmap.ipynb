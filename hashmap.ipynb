{
 "cells": [
  {
   "cell_type": "code",
   "execution_count": null,
   "metadata": {},
   "outputs": [],
   "source": [
    "What are the disadvantages to hashmaps?\n",
    "0. There's also the potential for collisions. \n",
    "    The cost of writing and/or executing the hashing-function could be high \n",
    "    if the requirement for collision avoidance is strict, or if you have a small hash-space.\n",
    "\n",
    "1. Whilst hash-tables have constant time insertion, a hash-table will occasionally need to grow \n",
    "    its internal structure and re-bucket its entries. \n",
    "    This is an operation that has a cost proportional to the current size of the hash-table. \n",
    "    The result of this is that insertion time is not always consistent, i.e. insertion will be constant, O(1), \n",
    "    but occasionally you will notice a linear delay, O(n) as the table is grown.     (This behaviour characteristic \n",
    "    has led some to suggest favouring a tree over hash-table in the default/naïve case.)\n",
    "    \n",
    "2. You need to make sure the hashing algorithm of the item you are adding is sound. \n",
    "    What this means that for an arbitrary set of elements, the resultant hash-codes are spread well \n",
    "    across the range of the hash-code type (in Java and C# this is int). \n",
    "    If you have a number of items with the same value (zero anyone?) then your hash-table will degrade into \n",
    "    an elaborate linked-list and performance will dramatically decrease.\n",
    "                                            \n",
    "3. You need to ensure that the hash-code of your items does not change over time \n",
    "    and that the equality method (Java's equals() or .NET's Equals()) is implemented to compare \n",
    "    the same set of fields used for the hash-code.  (Ideally this would mean the objects you add to the table \n",
    "    are immutable but alternatively you may instead make sure that any mutable fields have no bearing on \n",
    "    the hash-code calculation and equals method: a risky strategy. \n",
    "    With changing hash-codes the table will not be able to find the entries you have already added to it \n",
    "    when you later come to retrieve them.\n",
    "                                                     \n",
    "4. Hash-tables do not, generally, preserve ordering -- be it natural ordering or order of insertion. \n",
    "    (Those that do typically employ a parallel structure to maintain the ordering, or else perform \n",
    "     a relatively expensive sort at time of iteration.)\n",
    "                                                     "
   ]
  }
 ],
 "metadata": {
  "kernelspec": {
   "display_name": "Python 3",
   "language": "python",
   "name": "python3"
  },
  "language_info": {
   "codemirror_mode": {
    "name": "ipython",
    "version": 3
   },
   "file_extension": ".py",
   "mimetype": "text/x-python",
   "name": "python",
   "nbconvert_exporter": "python",
   "pygments_lexer": "ipython3",
   "version": "3.7.3"
  }
 },
 "nbformat": 4,
 "nbformat_minor": 2
}
